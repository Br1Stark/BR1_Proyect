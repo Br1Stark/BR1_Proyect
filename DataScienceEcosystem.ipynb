{
 "cells": [
  {
   "cell_type": "markdown",
   "id": "1f918d8a-c58b-4b44-8f4a-0ce0b850c6e6",
   "metadata": {},
   "source": [
    "# Data Science Tools and Ecosystem\n",
    "\n"
   ]
  },
  {
   "cell_type": "markdown",
   "id": "9d1f3a0b-3ede-4b1b-a7ab-844d98a19f19",
   "metadata": {},
   "source": [
    "In this notebook, Data Science Tools and Ecosystem are summarized."
   ]
  },
  {
   "cell_type": "markdown",
   "id": "e1ed2240-5fef-4313-8ed9-327325ff3c5d",
   "metadata": {},
   "source": [
    "Some of the popular languages that Data Scientist are:\n",
    "- Python\n",
    "- R\n",
    "- SQL\n",
    "- Julia\n",
    "- MATLAB\n",
    "- Spark\n",
    "- Scala\n",
    "- Java"
   ]
  },
  {
   "cell_type": "markdown",
   "id": "705abd72-78e1-4e81-aa0c-6ccbfe311bec",
   "metadata": {},
   "source": [
    "Some of the commonly used libraries used by Data Scientists include:\n",
    "* Numpy\n",
    "* Pandas\n",
    "* Matplotlib\n",
    "* scikit-learn\n",
    "* TensorFlow\n",
    "* ggplot2\n",
    "* tidyverse\n",
    "* tidymodels"
   ]
  },
  {
   "cell_type": "markdown",
   "id": "a26fd82c-482a-469e-8e76-d79e6afe90b6",
   "metadata": {},
   "source": [
    "| Data Science Tools |\n",
    "-----------------------\n",
    "Jupyter Notebook/JupyterLab\n",
    "-----------\n",
    "RStudio\n",
    "--------------------\n",
    "Visual Studio Code\n",
    "-------------------------"
   ]
  },
  {
   "cell_type": "markdown",
   "id": "f01aa30d-bac3-4f44-b93a-cec4551bf5ce",
   "metadata": {},
   "source": [
    "------------------------------------------------\n",
    "### Below are a few examples of evaluating arithmetic expressions in Python\n",
    "------------------------------------------------"
   ]
  },
  {
   "cell_type": "markdown",
   "id": "458cdd3b-44ca-47ef-976e-7d72a9c25d76",
   "metadata": {},
   "source": [
    "This is a simple arithmetic expression to multiply then add integers"
   ]
  },
  {
   "cell_type": "code",
   "execution_count": 10,
   "id": "9211e546-2eda-4148-acf0-6e63dab4bbf0",
   "metadata": {},
   "outputs": [
    {
     "name": "stdout",
     "output_type": "stream",
     "text": [
      "(3*4)+5\n",
      "The result of the operation is:  17\n"
     ]
    }
   ],
   "source": [
    "#Defining the operation\n",
    "print (\"(3*4)+5\")\n",
    "result = (3*4) + 5\n",
    "#Printing the result\n",
    "print(\"The result of the operation is: \", result)"
   ]
  },
  {
   "cell_type": "code",
   "execution_count": 9,
   "id": "e6ea278b-3076-495c-ada9-532f643d723c",
   "metadata": {},
   "outputs": [
    {
     "name": "stdout",
     "output_type": "stream",
     "text": [
      "We have 200 minutes\n",
      "200 minutes are equivalent to 33.333333333333336 hours.\n"
     ]
    }
   ],
   "source": [
    "print(\"We have 200 minutes\")\n",
    "#Defining minutes\n",
    "minutes = 200\n",
    "#Converting minutes to hours\n",
    "hours = minutes/6\n",
    "print(\"200 minutes are equivalent to\",hours,\"hours.\")"
   ]
  },
  {
   "cell_type": "markdown",
   "id": "9c42001d-68e5-477a-a206-bb53851510e4",
   "metadata": {},
   "source": [
    "**Objectives:**\n",
    "- Enumerate the most popular languages used in Data Science.\n",
    "- Introduce the main libraries used in Data Science.\n",
    "- Show how a Markdown table works.\n",
    "- Demonstrate how to perform simple mathematical operations in a JupyterLite notebook."
   ]
  },
  {
   "cell_type": "markdown",
   "id": "ce8e0eb5-5f0a-433a-8ab8-f8ab10e66cd2",
   "metadata": {},
   "source": [
    "## Author: Bruno Josué Ruiz Maldonado"
   ]
  },
  {
   "cell_type": "code",
   "execution_count": null,
   "id": "8bfe77ab-be03-421e-a3a0-ab5c60dcbfb3",
   "metadata": {},
   "outputs": [],
   "source": []
  }
 ],
 "metadata": {
  "kernelspec": {
   "display_name": "Python 3 (ipykernel)",
   "language": "python",
   "name": "python3"
  },
  "language_info": {
   "codemirror_mode": {
    "name": "ipython",
    "version": 3
   },
   "file_extension": ".py",
   "mimetype": "text/x-python",
   "name": "python",
   "nbconvert_exporter": "python",
   "pygments_lexer": "ipython3",
   "version": "3.11.4"
  }
 },
 "nbformat": 4,
 "nbformat_minor": 5
}
